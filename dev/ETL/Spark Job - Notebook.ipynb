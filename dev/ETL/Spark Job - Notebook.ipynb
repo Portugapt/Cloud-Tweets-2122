{
 "cells": [
  {
   "cell_type": "code",
   "execution_count": 1,
   "id": "f9f4842d-5c71-4d36-bcf1-a4c30525fb58",
   "metadata": {},
   "outputs": [],
   "source": [
    "from pyspark.sql import SparkSession\n"
   ]
  },
  {
   "cell_type": "code",
   "execution_count": 2,
   "id": "3dd4fae8-6f07-42a2-b08d-ed2bd75131bf",
   "metadata": {},
   "outputs": [],
   "source": [
    "spark = SparkSession.builder.getOrCreate()"
   ]
  },
  {
   "cell_type": "code",
   "execution_count": 3,
   "id": "4666e837-98ff-4f1f-a202-ee150e10ab75",
   "metadata": {},
   "outputs": [
    {
     "name": "stdout",
     "output_type": "stream",
     "text": [
      "<pyspark.sql.session.SparkSession object at 0x7ff85c25a190>\n"
     ]
    }
   ],
   "source": [
    "print(spark)"
   ]
  },
  {
   "cell_type": "code",
   "execution_count": 5,
   "id": "6ea6b710-8122-463f-81fe-a3110f8b0346",
   "metadata": {},
   "outputs": [],
   "source": [
    "dfTweet = spark.read.option(\"header\",True).csv(\"./input/data.csv\")"
   ]
  },
  {
   "cell_type": "code",
   "execution_count": 6,
   "id": "24a5970c-6dad-48b0-b059-0a8ae312027e",
   "metadata": {},
   "outputs": [
    {
     "name": "stdout",
     "output_type": "stream",
     "text": [
      "root\n",
      " |-- _c0: string (nullable = true)\n",
      " |-- userid: string (nullable = true)\n",
      " |-- username: string (nullable = true)\n",
      " |-- acctdesc: string (nullable = true)\n",
      " |-- location: string (nullable = true)\n",
      " |-- following: string (nullable = true)\n",
      " |-- followers: string (nullable = true)\n",
      " |-- totaltweets: string (nullable = true)\n",
      " |-- usercreatedts: string (nullable = true)\n",
      " |-- tweetid: string (nullable = true)\n",
      " |-- tweetcreatedts: string (nullable = true)\n",
      " |-- retweetcount: string (nullable = true)\n",
      " |-- text: string (nullable = true)\n",
      " |-- hashtags: string (nullable = true)\n",
      " |-- language: string (nullable = true)\n",
      " |-- coordinates: string (nullable = true)\n",
      " |-- favorite_count: string (nullable = true)\n",
      " |-- extractedts: string (nullable = true)\n",
      "\n"
     ]
    }
   ],
   "source": [
    "dfTweet.printSchema()"
   ]
  },
  {
   "cell_type": "code",
   "execution_count": 8,
   "id": "2d7b1c83-3f08-4148-9494-961859073bf6",
   "metadata": {},
   "outputs": [
    {
     "data": {
      "text/plain": [
       "Row(userid='1421921881528016896', username='PFComCon')"
      ]
     },
     "execution_count": 8,
     "metadata": {},
     "output_type": "execute_result"
    }
   ],
   "source": [
    "dfTweet.select('userid', 'username').collect()[0]"
   ]
  },
  {
   "cell_type": "code",
   "execution_count": null,
   "id": "e8dbd3ac-9b1a-4243-b61d-2bad2a358944",
   "metadata": {},
   "outputs": [],
   "source": []
  }
 ],
 "metadata": {
  "kernelspec": {
   "display_name": "Python 3 (ipykernel)",
   "language": "python",
   "name": "python3"
  },
  "language_info": {
   "codemirror_mode": {
    "name": "ipython",
    "version": 3
   },
   "file_extension": ".py",
   "mimetype": "text/x-python",
   "name": "python",
   "nbconvert_exporter": "python",
   "pygments_lexer": "ipython3",
   "version": "3.9.10"
  }
 },
 "nbformat": 4,
 "nbformat_minor": 5
}
