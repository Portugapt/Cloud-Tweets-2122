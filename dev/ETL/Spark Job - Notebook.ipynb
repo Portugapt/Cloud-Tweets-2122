{
 "cells": [
  {
   "cell_type": "markdown",
   "id": "d2ac06d5-d2df-4a43-9626-83cb09b2397d",
   "metadata": {},
   "source": [
    "# To Script"
   ]
  },
  {
   "cell_type": "code",
   "execution_count": 32,
   "id": "f9f4842d-5c71-4d36-bcf1-a4c30525fb58",
   "metadata": {},
   "outputs": [],
   "source": [
    "import os\n",
    "os.environ[\"GOOGLE_APPLICATION_CREDENTIALS\"]=\"credentials/credentials-gs.json\"\n",
    "\n",
    "# https://kashif-sohail.medium.com/read-files-from-google-cloud-storage-bucket-using-local-pyspark-and-jupyter-notebooks-f8bd43f4b42e\n",
    "\n",
    "from pyspark import SparkContext, SparkConf\n",
    "from pyspark.sql import SparkSession, SQLContext\n",
    "\n",
    "from pyspark.sql.types import StructType,StructField, StringType, IntegerType, TimestampType, ArrayType\n",
    "\n",
    "from google.cloud import storage\n",
    "\n",
    "spark = SparkSession \\\n",
    "  .builder \\\n",
    "  .appName('spark-ETL-Tweets') \\\n",
    "  .config('spark.jars', '../gcs-connector-hadoop2-latest.jar') \\\n",
    "  .getOrCreate()\n",
    "\n",
    "spark._jsc.hadoopConfiguration().set('fs.gs.impl', 'com.google.cloud.hadoop.fs.gcs.GoogleHadoopFileSystem')\n",
    "\n",
    "BUCKET = 'cloud-computing-2122-bjr'\n",
    "BUCKET_LINK = 'gs://cloud-computing-2122-bjr'"
   ]
  },
  {
   "cell_type": "markdown",
   "id": "ccb818e8-5e1d-48d0-9540-5d9ffd21df2b",
   "metadata": {},
   "source": [
    "## 0: Check which CSV's havent been read\n",
    "\n",
    "https://cloud.google.com/storage/docs/downloading-objects#storage-download-object-portion-python\n",
    "\n",
    "Need: \n",
    "* To Have such .txt in bucket\n",
    "* Pull .txt\n",
    "* Check against list of csv's in bucket"
   ]
  },
  {
   "cell_type": "code",
   "execution_count": 2,
   "id": "c084a6d0-93d1-419f-9c8e-b632c76f41a1",
   "metadata": {},
   "outputs": [
    {
     "name": "stdout",
     "output_type": "stream",
     "text": [
      "Loaded from bucket cloud-computing-2122-bjr to local file control/read_files.txt.\n"
     ]
    }
   ],
   "source": [
    "# Read txt file of already processed CSV's\n",
    "def read_txt_blob(bucket_name, destination_file_name):\n",
    "    # https://stackoverflow.com/questions/48279061/gcs-read-a-text-file-from-google-cloud-storage-directly-into-python\n",
    "    storage_client = storage.Client()\n",
    "    bucket = storage_client.get_bucket(bucket_name)\n",
    "    blob = bucket.get_blob(destination_file_name)\n",
    "    read_file = blob.download_as_text(encoding=\"utf-8\")\n",
    "    # Log instead of print\n",
    "    print(\n",
    "        \"Loaded from bucket {} to local file {}.\".format(\n",
    "            bucket_name, destination_file_name\n",
    "        )\n",
    "    )\n",
    "    return read_file.split('\\n')\n",
    "\n",
    "FILES_ALREADY_READ = read_txt_blob(BUCKET, 'control/read_files.txt')"
   ]
  },
  {
   "cell_type": "code",
   "execution_count": 3,
   "id": "8cc66686-5a33-495d-b9a0-44954625289d",
   "metadata": {},
   "outputs": [
    {
     "data": {
      "text/plain": [
       "['']"
      ]
     },
     "execution_count": 3,
     "metadata": {},
     "output_type": "execute_result"
    }
   ],
   "source": [
    "FILES_ALREADY_READ"
   ]
  },
  {
   "cell_type": "code",
   "execution_count": 4,
   "id": "0fa3435b-6293-4439-aa37-eee35023ec40",
   "metadata": {},
   "outputs": [],
   "source": [
    "# List all available data files\n",
    "def list_blobs_with_prefix(bucket_name, prefix):\n",
    "    # https://cloud.google.com/storage/docs/listing-objects#storage-list-objects-python\n",
    "    storage_client = storage.Client()\n",
    "\n",
    "    # Note: Client.list_blobs requires at least package version 1.17.0.\n",
    "    blobs = storage_client.list_blobs(bucket_name, prefix=prefix)\n",
    "    list_of_csvs = []\n",
    "    \"\"\"\n",
    "    print(\"Blobs:\")\n",
    "    \"\"\"\n",
    "    for blob in blobs:\n",
    "        list_of_csvs.append(blob.name.split(\"/\")[-1])\n",
    "        # print(blob.name)\n",
    "    return list_of_csvs\n",
    "\n",
    "DATA_IN_BUCKET = list_blobs_with_prefix(BUCKET, 'data/')"
   ]
  },
  {
   "cell_type": "code",
   "execution_count": 5,
   "id": "7cda2a34-a633-4d18-a726-02102405c2ea",
   "metadata": {},
   "outputs": [],
   "source": [
    "FILES_TO_PROCESS = [f'data/{FILE}' for FILE in DATA_IN_BUCKET if FILE not in FILES_ALREADY_READ]"
   ]
  },
  {
   "cell_type": "code",
   "execution_count": 6,
   "id": "37879a32-4dc8-4a6f-a9ec-98978c7c07dc",
   "metadata": {},
   "outputs": [
    {
     "data": {
      "text/plain": [
       "['data/220312.csv']"
      ]
     },
     "execution_count": 6,
     "metadata": {},
     "output_type": "execute_result"
    }
   ],
   "source": [
    "FILES_TO_PROCESS"
   ]
  },
  {
   "cell_type": "markdown",
   "id": "edc68871-e363-4dcd-972c-591f3b09fcab",
   "metadata": {},
   "source": [
    "## 1: Read CSV into Spark"
   ]
  },
  {
   "cell_type": "code",
   "execution_count": 7,
   "id": "5670877c-9bf4-410a-a1d9-505fed8bd9a3",
   "metadata": {},
   "outputs": [],
   "source": [
    "## print(f\"{BUCKET_LINK}/{csv_file}\")"
   ]
  },
  {
   "cell_type": "markdown",
   "id": "5219f0e7-e009-4c92-90ba-81d3737d8b79",
   "metadata": {},
   "source": [
    "### 1.1: Define Schema of Global Data\n",
    "\n",
    "https://sparkbyexamples.com/pyspark/pyspark-structtype-and-structfield/   \n",
    "https://spark.apache.org/docs/latest/sql-ref-datatypes.html"
   ]
  },
  {
   "cell_type": "code",
   "execution_count": 36,
   "id": "20be546d-544c-419d-9794-0872eac95800",
   "metadata": {},
   "outputs": [],
   "source": [
    "GLOBAL_SCHEMA = StructType([ \\\n",
    "    StructField(\"RowID\",IntegerType(),False), \\\n",
    "    StructField(\"userid\",IntegerType(),False), \\\n",
    "    StructField(\"acctdesc\",StringType(),True), \\\n",
    "    StructField(\"location\", StringType(), True), \\\n",
    "    StructField(\"following\", IntegerType(), True), \\\n",
    "    StructField(\"followers\", IntegerType(), True), \\\n",
    "    StructField(\"totaltweets\", IntegerType(), True), \\\n",
    "    StructField(\"usercreatedts\", TimestampType(), False), \\\n",
    "    StructField(\"tweetid\", IntegerType(), False), \\\n",
    "    StructField(\"tweetcreatedts\", TimestampType(), False), \\\n",
    "    StructField(\"retweetcount\", IntegerType(), False), \\\n",
    "    StructField(\"text\", StringType(), True), \\\n",
    "    StructField(\"hashtags\", StringType(), False), \\\n",
    "    StructField(\"language\", StringType(), True), \\\n",
    "    StructField(\"coordinates\", StringType(), True), \\\n",
    "    StructField(\"favorite_count\", IntegerType(), True), \\\n",
    "    StructField(\"extractedts\", TimestampType(), True) \\\n",
    "  ])\n",
    "\n",
    "# StructField(\"hashtags\", StructType([StructField('text', StringType(), False), \\\n",
    "# StructField('indices', ArrayType(IntegerType()), False)]),False), \\"
   ]
  },
  {
   "cell_type": "code",
   "execution_count": 23,
   "id": "eaa96407-d17c-4585-9e6e-c76ed39e95d1",
   "metadata": {},
   "outputs": [
    {
     "data": {
      "text/plain": [
       "[Row(_c0=None, _c1='userid', _c2='username', _c3='acctdesc', _c4='location', _c5='following', _c6='followers', _c7='totaltweets', _c8='usercreatedts', _c9='tweetid', _c10='tweetcreatedts', _c11='retweetcount', _c12='text', _c13='hashtags', _c14='language', _c15='coordinates', _c16='favorite_count', _c17='extractedts'),\n",
       " Row(_c0='5428025', _c1='1421921881528016896', _c2='PFComCon', _c3='Timely, concise, and comprehensive source of information and analysis on Indo-Pacific bilateral relations, published by @pacificforum', _c4='Honolulu, Hawaii', _c5='96', _c6='53', _c7='706', _c8='2021-08-01 19:53:49.000000', _c9='1502434194462412804', _c10='2022-03-12 00:00:00', _c11='1', _c12='https://t.co/6vzbiMRRbP', _c13=None, _c14=None, _c15=None, _c16=None, _c17=None)]"
      ]
     },
     "execution_count": 23,
     "metadata": {},
     "output_type": "execute_result"
    }
   ],
   "source": [
    "csv_file.head(2)"
   ]
  },
  {
   "cell_type": "code",
   "execution_count": 22,
   "id": "f006d104-119b-45e8-8862-d2697221ba3e",
   "metadata": {},
   "outputs": [
    {
     "data": {
      "text/plain": [
       "[Row(_c0='5431702', _c1='1007709126460309504', _c2='Adam80644464', _c3='\"\"\"Jeśli MatkaBoska przemówiła w języku polskim do dzieci', _c4='jeśli moce niebieskie nie gardzą tym językiem', _c5='jakże my', _c6='ludzki', _c7='szary proch możemy się wstydzić polskości\"\"\"', _c8=None, _c9='2109', _c10='1780', _c11='25367', _c12='2018-06-15 19:39:13.000000', _c13='1502437181343903744', _c14='2022-03-12 00:11:52', _c15='348', _c16='Oto co mówił prof. Lech Kaczyński o gazociągu #NordStream1 w 2005 r. ', _c17=None),\n",
       " Row(_c0='5432273', _c1='2694895650', _c2='leszekfurtakcom', _c3='\"Redaktor. Prowadzący: \"\"Przesłuchanie Polityczne\"\"', _c4=' \"\"Przesłuchanie Historyczne\"\"', _c5=' \"\"Przesłuchanie Klimatyczne\"\"', _c6=' \"\"Co z tą Rosją?\"\"', _c7=' \"\"Co z tą Ukrainą?\"\".\"', _c8=None, _c9='1154', _c10='1525', _c11='58873', _c12='2014-07-31 06:21:20.000000', _c13='1502437818492203010', _c14='2022-03-12 00:14:24', _c15='493', _c16=\"Good to speak to @ZelenskyyUa again today to update him on the tough sanctions we are bringing in to hold the Putin regime and its supporters to account for Russia's vile actions.\", _c17=None),\n",
       " Row(_c0='5433094', _c1='2694895650', _c2='leszekfurtakcom', _c3='\"Redaktor. Prowadzący: \"\"Przesłuchanie Polityczne\"\"', _c4=' \"\"Przesłuchanie Historyczne\"\"', _c5=' \"\"Przesłuchanie Klimatyczne\"\"', _c6=' \"\"Co z tą Rosją?\"\"', _c7=' \"\"Co z tą Ukrainą?\"\".\"', _c8=None, _c9='1154', _c10='1525', _c11='58873', _c12='2014-07-31 06:21:20.000000', _c13='1502438737099243529', _c14='2022-03-12 00:18:03', _c15='62', _c16='Es ist jetzt unsere wichtigste Aufgabe, alles dafür zu tun, dass der Krieg in der #Ukraine endet und eine Perspektive für ein friedliches Miteinander zu schaffen. Dafür brauchen wir weiter die Geschlossenheit Europas - @Bundeskanzler Scholz vor dem Europäischen Rat in Versailles. https://t.co/weWzP9psCM', _c17=\"[{'text': 'Ukraine', 'indices': [99, 107]}]\"),\n",
       " Row(_c0='5435037', _c1='2694895650', _c2='leszekfurtakcom', _c3='\"Redaktor. Prowadzący: \"\"Przesłuchanie Polityczne\"\"', _c4=' \"\"Przesłuchanie Historyczne\"\"', _c5=' \"\"Przesłuchanie Klimatyczne\"\"', _c6=' \"\"Co z tą Rosją?\"\"', _c7=' \"\"Co z tą Ukrainą?\"\".\"', _c8=None, _c9='1154', _c10='1525', _c11='58873', _c12='2014-07-31 06:21:20.000000', _c13='1502440164479668229', _c14='2022-03-12 00:23:43', _c15='182', _c16='Das Wichtigste, das von diesem besonderen Gipfel ausgeht: Wir haben den festen Willen zusammenzustehen und diese Krise zu meistern. Ein berührendes Beispiel dafür ist die große Solidarität in Europa mit denen, die vor der furchtbaren Zerstörung in der #Ukraine in die EU fliehen.', _c17='[]'),\n",
       " Row(_c0='5435084', _c1='2694895650', _c2='leszekfurtakcom', _c3='\"Redaktor. Prowadzący: \"\"Przesłuchanie Polityczne\"\"', _c4=' \"\"Przesłuchanie Historyczne\"\"', _c5=' \"\"Przesłuchanie Klimatyczne\"\"', _c6=' \"\"Co z tą Rosją?\"\"', _c7=' \"\"Co z tą Ukrainą?\"\".\"', _c8=None, _c9='1154', _c10='1525', _c11='58873', _c12='2014-07-31 06:21:20.000000', _c13='1502440197937577984', _c14='2022-03-12 00:23:51', _c15='3', _c16='Le sommet de #Versailles le montre clairement : ', _c17=None),\n",
       " Row(_c0='Truthful', _c1=' Wicked', _c2=' and intolerant of ignorance and lies.\"', _c3='Everywhere', _c4='1456', _c5='245', _c6='915', _c7='2018-08-13 03:47:08.000000', _c8='1502442876982202372', _c9='2022-03-12 00:34:30', _c10='0', _c11='#FridayVibes #UkraineWar #UkraineRussiaWar #UkraineInvasion #Ukrainian #missile #truth #Anonymous #war #AnonymousNews #FckPutin https://t.co/BJ0WyLMOHo', _c12=\"[{'text': 'FridayVibes', 'indices': [0, 12]}, {'text': 'UkraineWar', 'indices': [13, 24]}, {'text': 'UkraineRussiaWar', 'indices': [25, 42]}, {'text': 'UkraineInvasion', 'indices': [43, 59]}, {'text': 'Ukrainian', 'indices': [60, 70]}, {'text': 'missile', 'indices': [71, 79]}, {'text': 'truth', 'indices': [80, 86]}, {'text': 'Anonymous', 'indices': [87, 97]}, {'text': 'war', 'indices': [98, 102]}, {'text': 'AnonymousNews', 'indices': [103, 117]}, {'text': 'FckPutin', 'indices': [118, 127]}]\", _c13='und', _c14=None, _c15='1', _c16='2022-03-12 00:43:29.623632', _c17=None),\n",
       " Row(_c0='5437972', _c1='2694895650', _c2='leszekfurtakcom', _c3='\"Redaktor. Prowadzący: \"\"Przesłuchanie Polityczne\"\"', _c4=' \"\"Przesłuchanie Historyczne\"\"', _c5=' \"\"Przesłuchanie Klimatyczne\"\"', _c6=' \"\"Co z tą Rosją?\"\"', _c7=' \"\"Co z tą Ukrainą?\"\".\"', _c8=None, _c9='1154', _c10='1525', _c11='58879', _c12='2014-07-31 06:21:20.000000', _c13='1502443361348763650', _c14='2022-03-12 00:36:26', _c15='1', _c16='\"@EmmanuelMacron @eucopresident @vonderleyen @EUCouncil @EU_Commission @Europe2022FR @EUintheUS @Elysee @francediplo @francediplo_EN #VERSAILLES 🇫🇷🇪🇺⎮ 🇫🇷 Pres. #Macron spoke to this support to Ukraine: \"\"We will be there to help #Ukraine rebuild what #Russia destroys.(…) The #EU message to #Ukrainians is that the path to our #Europe is open.\"\" https://t.co/QNsD8jifK1\"', _c17='[]'),\n",
       " Row(_c0='5439421', _c1='4042092317', _c2='de_MOL_a', _c3='\"\"\"Panuj nad tym', _c4=' nad czym możesz zapanować', _c5=' całą resztę traktuj jak kupę gówna', _c6=' a jeśli musisz paść', _c7=' to z dymiącym rewolwerem\"\" /Stephen King/.\"', _c8=None, _c9='2375', _c10='1656', _c11='23133', _c12='2015-10-25 22:53:13.000000', _c13='1502444321961820165', _c14='2022-03-12 00:40:15', _c15='614', _c16='Ten obrazek powinien uświadomić wszystkim, nawet niektórym politykom #PiS.u, dlaczego - nawet, a może tym bardziej, w czasie wojny w Ukrainie - mówimy o państwie prawa, przestrzeganiu traktatów, konwencji i własnej konstytucji.', _c17=None),\n",
       " Row(_c0='5439435', _c1='2694895650', _c2='leszekfurtakcom', _c3='\"Redaktor. Prowadzący: \"\"Przesłuchanie Polityczne\"\"', _c4=' \"\"Przesłuchanie Historyczne\"\"', _c5=' \"\"Przesłuchanie Klimatyczne\"\"', _c6=' \"\"Co z tą Rosją?\"\"', _c7=' \"\"Co z tą Ukrainą?\"\".\"', _c8=None, _c9='1154', _c10='1525', _c11='58879', _c12='2014-07-31 06:21:20.000000', _c13='1502444327632609288', _c14='2022-03-12 00:40:16', _c15='11', _c16='#VERSAILLES 🇫🇷🇪🇺⎮ The #Versaillessummit has come to a close, and #European leaders move forward with a response to the war in #Ukraine and a plan for the future towards a more sovereign #Europe. Full Versailles Declaration here, highlights below 👇', _c17=None),\n",
       " Row(_c0='At night the invaders are approaching to Kiev but they get destroyed by a drone. #プーチン', _c1=' #ウクライナ', _c2=' #Putin', _c3=' #war', _c4=' #戦争', _c5=' #russia', _c6=' #ロシア侵攻', _c7='#nuclear', _c8='#nuclearwar', _c9='#drone', _c10=' #Bombshell', _c11=' #invasion https://t.co/tnI2PgJsya\"', _c12=\"[{'text': 'プーチン', 'indices': [117, 122]}, {'text': 'ウクライナ', 'indices': [124, 130]}, {'text': 'Putin', 'indices': [132, 138]}, {'text': 'war', 'indices': [140, 144]}, {'text': '戦争', 'indices': [146, 149]}, {'text': 'russia', 'indices': [151, 158]}, {'text': 'ロシア侵攻', 'indices': [160, 166]}, {'text': 'nuclear', 'indices': [167, 175]}, {'text': 'nuclearwar', 'indices': [176, 187]}, {'text': 'drone', 'indices': [188, 194]}, {'text': 'Bombshell', 'indices': [196, 206]}, {'text': 'invasion', 'indices': [208, 217]}]\", _c13='ja', _c14=None, _c15='1', _c16='2022-03-12 01:27:11.595514', _c17=None)]"
      ]
     },
     "execution_count": 22,
     "metadata": {},
     "output_type": "execute_result"
    }
   ],
   "source": [
    "csv_file.where(csv_file['_c15'] != 0).head(10)\n",
    "#csv_file.head(10)"
   ]
  },
  {
   "cell_type": "code",
   "execution_count": 16,
   "id": "70dc843c-0b6d-4ae0-935e-7c185e4b2684",
   "metadata": {},
   "outputs": [
    {
     "data": {
      "text/plain": [
       "[Row(_c0='no more blood.\"', _c1='kyoto', _c2='323', _c3='108', _c4='614', _c5='2021-09-30 14:13:41.000000', _c6='1502796580143136768', _c7='2022-03-12 23:59:59', _c8='714', _c9='#BREAKING ', _c10=None, _c11=None, _c12=None, _c13=None, _c14=None, _c15=None, _c16=None, _c17=None),\n",
       " Row(_c0='The moment of missile attack on US consulate in #Erbil https://t.co/5u7tpsCaWy\"', _c1=\"[{'text': 'BREAKING', 'indices': [17, 26]}, {'text': 'Erbil', 'indices': [76, 82]}]\", _c2='en', _c3=None, _c4='0', _c5='2022-03-13 00:01:13.561375', _c6=None, _c7=None, _c8=None, _c9=None, _c10=None, _c11=None, _c12=None, _c13=None, _c14=None, _c15=None, _c16=None, _c17=None),\n",
       " Row(_c0='5825969', _c1='1494227064408346634', _c2='Deramba1', _c3='ትግራይ እያ ዓለመይ!!', _c4=None, _c5=None, _c6=None, _c7=None, _c8=None, _c9=None, _c10=None, _c11=None, _c12=None, _c13=None, _c14=None, _c15=None, _c16=None, _c17=None),\n",
       " Row(_c0='#StopTigrayGenocide\"', _c1=None, _c2='272', _c3='278', _c4='4616', _c5='2022-02-17 08:29:07.000000', _c6='1502796580163837955', _c7='2022-03-12 23:59:59', _c8='223', _c9='On this #IWD2022 the world must condemn the atrocities taking place in #Tigray by domestic + international forces. In particular the violence against women and young girls #Justice4TigrayWomen @phumzileunwomen @unwomenafrica @mbachelet @Lacroix_UN @DicarloRosemary @USGSRSGPatten', _c10=\"[{'text': 'IWD2022', 'indices': [25, 33]}, {'text': 'Tigray', 'indices': [88, 95]}]\", _c11='en', _c12=None, _c13='0', _c14='2022-03-13 00:01:13.517405', _c15=None, _c16=None, _c17=None)]"
      ]
     },
     "execution_count": 16,
     "metadata": {},
     "output_type": "execute_result"
    }
   ],
   "source": [
    "csv_file.tail(4)"
   ]
  },
  {
   "cell_type": "markdown",
   "id": "26b67699-173e-41c1-9f73-708689d37e64",
   "metadata": {},
   "source": [
    "### 1.2 Define Schema of Tweets DB\n",
    "\n",
    "Has to be in accordance with BigQuery Table"
   ]
  },
  {
   "cell_type": "code",
   "execution_count": null,
   "id": "52cfc995-521f-4652-b867-4fef16b98d23",
   "metadata": {},
   "outputs": [],
   "source": []
  },
  {
   "cell_type": "markdown",
   "id": "194300eb-fd60-4dc7-b211-13084a728ea1",
   "metadata": {},
   "source": [
    "### 1.3 Define Schema of Users DB\n",
    "\n",
    "Has to be in accordance with BigQuery Table"
   ]
  },
  {
   "cell_type": "code",
   "execution_count": null,
   "id": "1787dc64-9e37-4078-bf90-af0c5bfcc35a",
   "metadata": {},
   "outputs": [],
   "source": []
  },
  {
   "cell_type": "markdown",
   "id": "e8cc373c-179d-440e-bb1a-d2f65cac0cbd",
   "metadata": {},
   "source": [
    "### Iterate over CSV's\n",
    "\n",
    "* Control flow (Pull user data from BigQuery)\n",
    "* Update / Add Users\n",
    "* Add Tweets"
   ]
  },
  {
   "cell_type": "code",
   "execution_count": 42,
   "id": "3d9f81ff-fb66-4847-b458-c11f6a1f79fe",
   "metadata": {},
   "outputs": [],
   "source": [
    "# https://stackoverflow.com/questions/51751852/dataproc-reading-from-google-cloud-storage\n",
    "# https://stackoverflow.com/questions/61197811/can-i-read-csv-files-from-google-storage-using-spark-in-more-than-one-executor\n",
    "\n",
    "for csv_file in FILES_TO_PROCESS:\n",
    "    ## DOES NOT WORK\n",
    "    ##sc = SparkContext.getOrCreate()\n",
    "    ##rdd_csv = sc.wholeTextFiles(f\"{BUCKET_LINK}/{csv_file}\")\n",
    "    ##rdd_csv.collect()\n",
    "    ## WORKS - BUT DOES IT WORK FOR MULTIPLE FILES READ?\n",
    "    csv_file = (spark\n",
    "                .read\n",
    "                .format(\"csv\")\n",
    "                .options(header='True')\n",
    "                .\n",
    "                #.schema(GLOBAL_SCHEMA)\n",
    "                .load(f\"{BUCKET_LINK}/{csv_file}\", compression='gzip'))"
   ]
  },
  {
   "cell_type": "code",
   "execution_count": 43,
   "id": "ba73ef2e-67e5-4dfd-80eb-1f253b6b1c76",
   "metadata": {},
   "outputs": [
    {
     "data": {
      "text/plain": [
       "[Row(_c0='5428025', userid='1421921881528016896', username='PFComCon', acctdesc='Timely, concise, and comprehensive source of information and analysis on Indo-Pacific bilateral relations, published by @pacificforum', location='Honolulu, Hawaii', following='96', followers='53', totaltweets='706', usercreatedts='2021-08-01 19:53:49.000000', tweetid='1502434194462412804', tweetcreatedts='2022-03-12 00:00:00', retweetcount='1', text='https://t.co/6vzbiMRRbP', hashtags=None, language=None, coordinates=None, favorite_count=None, extractedts=None),\n",
       " Row(_c0='China\\'s online comments show that pro-Moscow posturing is a veil for expressing a deeper critique of U.S. influence. #ComparativeConnections #Ukraine #RussiaUkraineWar #China #US\"', userid=\"[{'text': 'ComparativeConnections', 'indices': [142, 165]}, {'text': 'Ukraine', 'indices': [166, 174]}, {'text': 'RussiaUkraineWar', 'indices': [175, 192]}, {'text': 'China', 'indices': [193, 199]}, {'text': 'US', 'indices': [200, 203]}]\", username='en', acctdesc=None, location='1', following='2022-03-12 00:26:57.906966', followers=None, totaltweets=None, usercreatedts=None, tweetid=None, tweetcreatedts=None, retweetcount=None, text=None, hashtags=None, language=None, coordinates=None, favorite_count=None, extractedts=None),\n",
       " Row(_c0='5428026', userid='1473249066', username='EandPCartoons', acctdesc='Editorial & Political Cartoons', location='U.S.', following='270', followers='3336', totaltweets='38196', usercreatedts='2013-05-31 22:53:04.000000', tweetid='1502434194575659008', tweetcreatedts='2022-03-12 00:00:00', retweetcount='1', text='Drew Sheneman, The Star-Ledger #Putin #Russia #Sanctions https://t.co/J8A1MUJYnF', hashtags=\"[{'text': 'Putin', 'indices': [31, 37]}, {'text': 'Russia', 'indices': [38, 45]}, {'text': 'Sanctions', 'indices': [46, 56]}]\", language='en', coordinates=None, favorite_count='2', extractedts='2022-03-12 00:26:57.899206')]"
      ]
     },
     "execution_count": 43,
     "metadata": {},
     "output_type": "execute_result"
    }
   ],
   "source": [
    "csv_file.head(3)"
   ]
  },
  {
   "cell_type": "code",
   "execution_count": null,
   "id": "4666e837-98ff-4f1f-a202-ee150e10ab75",
   "metadata": {},
   "outputs": [],
   "source": [
    "# Use the Cloud Storage bucket for temporary BigQuery export data used\n",
    "# by the connector.\n",
    "spark.conf.set('temporaryGcsBucket', BUCKET)\n",
    "\n",
    "#\n",
    "\n",
    "words = spark.read.format('bigquery') \\\n",
    "  .option('table', 'bigquery-public-data:samples.shakespeare') \\\n",
    "  .load()\n",
    "words.createOrReplaceTempView('words')\n"
   ]
  },
  {
   "cell_type": "code",
   "execution_count": null,
   "id": "6ea6b710-8122-463f-81fe-a3110f8b0346",
   "metadata": {},
   "outputs": [],
   "source": [
    "dfTweet = spark.read.option(\"header\",True).csv(\"./input/data.csv\")"
   ]
  },
  {
   "cell_type": "code",
   "execution_count": null,
   "id": "24a5970c-6dad-48b0-b059-0a8ae312027e",
   "metadata": {},
   "outputs": [],
   "source": [
    "dfTweet.printSchema()"
   ]
  },
  {
   "cell_type": "code",
   "execution_count": null,
   "id": "2d7b1c83-3f08-4148-9494-961859073bf6",
   "metadata": {},
   "outputs": [],
   "source": [
    "dfTweet.select('userid', 'username').collect()[0]"
   ]
  },
  {
   "cell_type": "markdown",
   "id": "efa66e93-cbc3-4afd-9e9c-66da28778244",
   "metadata": {},
   "source": [
    "# Write Read CSV's to control file"
   ]
  },
  {
   "cell_type": "code",
   "execution_count": null,
   "id": "9536e916-5948-40a1-afff-bf113bacca12",
   "metadata": {},
   "outputs": [],
   "source": [
    "## Join FILES_TO_PROCESS and FILES_ALREADY_READ in PROCESSED_FILES\n",
    "PROCESSED_FILES = []"
   ]
  },
  {
   "cell_type": "code",
   "execution_count": null,
   "id": "190194af-a3eb-419a-934f-e1e1f5533128",
   "metadata": {},
   "outputs": [],
   "source": [
    "# Update txt file after data is processed\n",
    "# https://stackoverflow.com/questions/43682521/writing-data-to-google-cloud-storage-using-python\n",
    "def write_txt_to_bucket(bucket_name, destination_file_name, files_list):\n",
    "    client = storage.Client()\n",
    "    bucket = client.get_bucket(bucket_name)\n",
    "    blob = bucket.blob(destination_file_name) \n",
    "    ## Use bucket.get_blob('path/to/existing-blob-name.txt') to write to existing blobs\n",
    "    with blob.open(mode='w') as f:\n",
    "        f.write('\\n'.join(files_list))\n",
    "            \n",
    "write_txt_to_bucket('cloud-computing-2122-bjr', 'control/read_files.txt', PROCESSED_FILES)"
   ]
  }
 ],
 "metadata": {
  "kernelspec": {
   "display_name": "Python 3 (ipykernel)",
   "language": "python",
   "name": "python3"
  },
  "language_info": {
   "codemirror_mode": {
    "name": "ipython",
    "version": 3
   },
   "file_extension": ".py",
   "mimetype": "text/x-python",
   "name": "python",
   "nbconvert_exporter": "python",
   "pygments_lexer": "ipython3",
   "version": "3.9.10"
  }
 },
 "nbformat": 4,
 "nbformat_minor": 5
}
